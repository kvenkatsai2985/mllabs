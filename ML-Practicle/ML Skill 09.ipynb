{
 "cells": [
  {
   "cell_type": "code",
   "execution_count": 9,
   "id": "9fec816a",
   "metadata": {},
   "outputs": [
    {
     "name": "stdout",
     "output_type": "stream",
     "text": [
      "OR Gate using Perceptron\n",
      "OR(0, 0) = 0\n",
      "OR(0, 1) = 1\n",
      "OR(1, 0) = 1\n",
      "OR(1, 1) = 1\n",
      "\n",
      "AND Gate using Perceptron\n",
      "AND(0, 0) = 0\n",
      "AND(0, 1) = 0\n",
      "AND(1, 0) = 0\n",
      "AND(1, 1) = 1\n",
      "\n",
      "NOT Gate using Perceptron\n",
      "NOT(1) = 0\n",
      "NOT(0) = 1\n"
     ]
    }
   ],
   "source": [
    "import numpy as np\n",
    "\n",
    "def unitStep(v):\n",
    "    if v >= 0:\n",
    "        return 1\n",
    "    else:\n",
    "        return 0\n",
    "  \n",
    "def perceptronModel(x, w, b):\n",
    "    v = np.dot(w, x) + b\n",
    "    y = unitStep(v)\n",
    "    return y\n",
    "\n",
    "def OR_logicFunction(x):\n",
    "    w = np.array([1, 1]) # Weights W1 = 1 and W2=1\n",
    "    b = -0.5  # Bias (b) = -0.5\n",
    "    return perceptronModel(x, w, b)\n",
    "\n",
    "test1 = np.array([0, 0])\n",
    "test2 = np.array([0, 1])\n",
    "test3 = np.array([1, 0])\n",
    "test4 = np.array([1, 1])\n",
    "\n",
    "\n",
    "  \n",
    "print(\"OR Gate using Perceptron\")\n",
    "print(\"OR({}, {}) = {}\".format(0, 0, OR_logicFunction(test1)))\n",
    "print(\"OR({}, {}) = {}\".format(0, 1, OR_logicFunction(test2)))\n",
    "print(\"OR({}, {}) = {}\".format(1, 0, OR_logicFunction(test3)))\n",
    "print(\"OR({}, {}) = {}\".format(1, 1, OR_logicFunction(test4)))\n",
    "print()\n",
    "\n",
    "def AND_logicFunction(x):\n",
    "    w = np.array([1, 1]) # Weights W1 = 1 and W2=1\n",
    "    b = -1.5  # Bias (b) = -1.5\n",
    "    return perceptronModel(x, w, b)\n",
    "\n",
    "\n",
    "\n",
    "  \n",
    "print(\"AND Gate using Perceptron\")\n",
    "print(\"AND({}, {}) = {}\".format(0, 0, AND_logicFunction(test1)))\n",
    "print(\"AND({}, {}) = {}\".format(0, 1, AND_logicFunction(test2)))\n",
    "print(\"AND({}, {}) = {}\".format(1, 0, AND_logicFunction(test3)))\n",
    "print(\"AND({}, {}) = {}\".format(1, 1, AND_logicFunction(test4)))\n",
    "print()\n",
    "\n",
    "def NOT_logicFunction(x):\n",
    "    w = -1 # Weight (w) = -1 \n",
    "    b = 0.5 # Bias (b) = 0.5\n",
    "    return perceptronModel(x, w, b)\n",
    "\n",
    "NOT_test1 = np.array(1)\n",
    "NOT_test2 = np.array(0)\n",
    "print(\"NOT Gate using Perceptron\")\n",
    "print(\"NOT({}) = {}\".format(1, NOT_logicFunction(NOT_test1)))\n",
    "print(\"NOT({}) = {}\".format(0, NOT_logicFunction(NOT_test2)))"
   ]
  },
  {
   "cell_type": "code",
   "execution_count": null,
   "id": "724157b8",
   "metadata": {},
   "outputs": [],
   "source": []
  }
 ],
 "metadata": {
  "kernelspec": {
   "display_name": "Python 3 (ipykernel)",
   "language": "python",
   "name": "python3"
  },
  "language_info": {
   "codemirror_mode": {
    "name": "ipython",
    "version": 3
   },
   "file_extension": ".py",
   "mimetype": "text/x-python",
   "name": "python",
   "nbconvert_exporter": "python",
   "pygments_lexer": "ipython3",
   "version": "3.9.7"
  }
 },
 "nbformat": 4,
 "nbformat_minor": 5
}
