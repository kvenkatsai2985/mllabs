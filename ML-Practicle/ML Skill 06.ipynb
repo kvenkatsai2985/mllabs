{
 "cells": [
  {
   "cell_type": "code",
   "execution_count": 1,
   "id": "e0c8f522",
   "metadata": {},
   "outputs": [
    {
     "name": "stdout",
     "output_type": "stream",
     "text": [
      "Requirement already satisfied: pgmpy in c:\\users\\charan lanka\\anaconda3\\lib\\site-packages (0.1.19)\n",
      "Requirement already satisfied: scikit-learn in c:\\users\\charan lanka\\anaconda3\\lib\\site-packages (from pgmpy) (0.24.2)\n",
      "Requirement already satisfied: networkx in c:\\users\\charan lanka\\anaconda3\\lib\\site-packages (from pgmpy) (2.6.3)\n",
      "Requirement already satisfied: scipy in c:\\users\\charan lanka\\anaconda3\\lib\\site-packages (from pgmpy) (1.7.1)\n",
      "Requirement already satisfied: numpy in c:\\users\\charan lanka\\anaconda3\\lib\\site-packages (from pgmpy) (1.20.3)\n",
      "Requirement already satisfied: torch in c:\\users\\charan lanka\\anaconda3\\lib\\site-packages (from pgmpy) (1.12.1)\n",
      "Requirement already satisfied: tqdm in c:\\users\\charan lanka\\anaconda3\\lib\\site-packages (from pgmpy) (4.62.3)\n",
      "Requirement already satisfied: joblib in c:\\users\\charan lanka\\anaconda3\\lib\\site-packages (from pgmpy) (1.1.0)\n",
      "Requirement already satisfied: pandas in c:\\users\\charan lanka\\anaconda3\\lib\\site-packages (from pgmpy) (1.3.4)\n",
      "Requirement already satisfied: pyparsing in c:\\users\\charan lanka\\anaconda3\\lib\\site-packages (from pgmpy) (3.0.4)\n",
      "Requirement already satisfied: statsmodels in c:\\users\\charan lanka\\anaconda3\\lib\\site-packages (from pgmpy) (0.12.2)\n",
      "Requirement already satisfied: pytz>=2017.3 in c:\\users\\charan lanka\\anaconda3\\lib\\site-packages (from pandas->pgmpy) (2021.3)\n",
      "Requirement already satisfied: python-dateutil>=2.7.3 in c:\\users\\charan lanka\\anaconda3\\lib\\site-packages (from pandas->pgmpy) (2.8.2)\n",
      "Requirement already satisfied: six>=1.5 in c:\\users\\charan lanka\\anaconda3\\lib\\site-packages (from python-dateutil>=2.7.3->pandas->pgmpy) (1.16.0)\n",
      "Requirement already satisfied: threadpoolctl>=2.0.0 in c:\\users\\charan lanka\\anaconda3\\lib\\site-packages (from scikit-learn->pgmpy) (2.2.0)\n",
      "Requirement already satisfied: patsy>=0.5 in c:\\users\\charan lanka\\anaconda3\\lib\\site-packages (from statsmodels->pgmpy) (0.5.2)\n",
      "Requirement already satisfied: typing-extensions in c:\\users\\charan lanka\\anaconda3\\lib\\site-packages (from torch->pgmpy) (3.10.0.2)\n",
      "Requirement already satisfied: colorama in c:\\users\\charan lanka\\anaconda3\\lib\\site-packages (from tqdm->pgmpy) (0.4.3)\n",
      "Note: you may need to restart the kernel to use updated packages.\n"
     ]
    }
   ],
   "source": [
    "pip install pgmpy"
   ]
  },
  {
   "cell_type": "code",
   "execution_count": 2,
   "id": "59c2b99d",
   "metadata": {},
   "outputs": [],
   "source": [
    "import pgmpy.models\n",
    "import numpy as np\n",
    "import pandas as pd\n",
    "import seaborn as sns\n",
    "import matplotlib.pyplot as plt\n",
    "from sklearn import metrics\n",
    "from sklearn.preprocessing import LabelEncoder\n",
    "from sklearn.datasets import make_blobs\n",
    "from sklearn.naive_bayes import GaussianNB\n",
    "from sklearn.metrics import confusion_matrix, accuracy_score\n",
    "from sklearn.model_selection import train_test_split\n",
    "from sklearn.tree import DecisionTreeClassifier\n",
    "import pgmpy.inference\n",
    "import networkx as nx\n",
    "import pylab as plt"
   ]
  },
  {
   "cell_type": "code",
   "execution_count": 10,
   "id": "d8fa0e53",
   "metadata": {},
   "outputs": [],
   "source": [
    "model = pgmpy.models.BayesianModel([('Heart Problem', 'Alarm'), \n",
    "                                    ('Breathing Problem', 'Alarm'),\n",
    "                                    ('Alarm', 'Person1'), \n",
    "                                    ('Alarm', 'Person2')])"
   ]
  },
  {
   "cell_type": "code",
   "execution_count": 11,
   "id": "38e50fe2",
   "metadata": {},
   "outputs": [],
   "source": [
    "cpd_heartproblem = pgmpy.factors.discrete.TabularCPD('Heart Problem', 2, [[ 0.999],[0.001]])"
   ]
  },
  {
   "cell_type": "code",
   "execution_count": 12,
   "id": "ce2b784a",
   "metadata": {},
   "outputs": [],
   "source": [
    "cpd_breathingproblem = pgmpy.factors.discrete.TabularCPD('Breathing Problem', 2, [ [0.998],[0.002]])"
   ]
  },
  {
   "cell_type": "code",
   "execution_count": 21,
   "id": "9d7cddcc",
   "metadata": {},
   "outputs": [],
   "source": [
    "cpd_alarm = pgmpy.factors.discrete.TabularCPD('Alarm', 2, [[0.05, 0.06, 0.72, 0.995],[0.95, 0.95, 0.28, 0.005] ], \n",
    "                                              evidence=['Heart Problem', 'Breathing Problem'], \n",
    "                                              evidence_card=[2, 2])"
   ]
  },
  {
   "cell_type": "code",
   "execution_count": 22,
   "id": "31b85fb1",
   "metadata": {},
   "outputs": [],
   "source": [
    "cpd_person1 = pgmpy.factors.discrete.TabularCPD('Person1', 2, [[0.06, 0.47],[0.94, 0.53] ], \n",
    "                                              evidence=['Alarm'], \n",
    "                                              evidence_card=[2])"
   ]
  },
  {
   "cell_type": "code",
   "execution_count": 23,
   "id": "ca5c05ac",
   "metadata": {},
   "outputs": [],
   "source": [
    "cpd_person2 = pgmpy.factors.discrete.TabularCPD('Person2', 2, [[0.90, 0.90],[0.10, 0.10]], \n",
    "                                              evidence=['Alarm'], \n",
    "                                              evidence_card=[2])"
   ]
  },
  {
   "cell_type": "code",
   "execution_count": 24,
   "id": "8d0e71cc",
   "metadata": {},
   "outputs": [
    {
     "name": "stdout",
     "output_type": "stream",
     "text": [
      "Probability distribution, P(Heart Problem)\n",
      "+------------------+-------+\n",
      "| Heart Problem(0) | 0.999 |\n",
      "+------------------+-------+\n",
      "| Heart Problem(1) | 0.001 |\n",
      "+------------------+-------+\n",
      "\n",
      "Probability distribution, P(Breathing Problem)\n",
      "+----------------------+-------+\n",
      "| Breathing Problem(0) | 0.998 |\n",
      "+----------------------+-------+\n",
      "| Breathing Problem(1) | 0.002 |\n",
      "+----------------------+-------+\n",
      "\n",
      "Joint probability distribution, P(Alarm | Heart Problem, Breathing Problem)\n",
      "+-------------------+----------------------+----------------------+----------------------+----------------------+\n",
      "| Heart Problem     | Heart Problem(0)     | Heart Problem(0)     | Heart Problem(1)     | Heart Problem(1)     |\n",
      "+-------------------+----------------------+----------------------+----------------------+----------------------+\n",
      "| Breathing Problem | Breathing Problem(0) | Breathing Problem(1) | Breathing Problem(0) | Breathing Problem(1) |\n",
      "+-------------------+----------------------+----------------------+----------------------+----------------------+\n",
      "| Alarm(0)          | 0.05                 | 0.06                 | 0.72                 | 0.995                |\n",
      "+-------------------+----------------------+----------------------+----------------------+----------------------+\n",
      "| Alarm(1)          | 0.95                 | 0.95                 | 0.28                 | 0.005                |\n",
      "+-------------------+----------------------+----------------------+----------------------+----------------------+\n",
      "\n",
      "Joint probability distribution, P(Person1 | Alarm)\n",
      "+------------+----------+----------+\n",
      "| Alarm      | Alarm(0) | Alarm(1) |\n",
      "+------------+----------+----------+\n",
      "| Person1(0) | 0.06     | 0.47     |\n",
      "+------------+----------+----------+\n",
      "| Person1(1) | 0.94     | 0.53     |\n",
      "+------------+----------+----------+\n",
      "\n",
      "Joint probability distribution, P(Person2 | Alarm)\n",
      "+------------+----------+----------+\n",
      "| Alarm      | Alarm(0) | Alarm(1) |\n",
      "+------------+----------+----------+\n",
      "| Person2(0) | 0.9      | 0.9      |\n",
      "+------------+----------+----------+\n",
      "| Person2(1) | 0.1      | 0.1      |\n",
      "+------------+----------+----------+\n",
      "\n"
     ]
    }
   ],
   "source": [
    "model.add_cpds(cpd_heartproblem, cpd_breathingproblem, cpd_alarm, cpd_person1, cpd_person2)\n",
    "model.check_model()\n",
    "# Print probability distributions\n",
    "print('Probability distribution, P(Heart Problem)')\n",
    "print(cpd_heartproblem)\n",
    "print()\n",
    "print('Probability distribution, P(Breathing Problem)')\n",
    "print(cpd_breathingproblem)\n",
    "print()\n",
    "print('Joint probability distribution, P(Alarm | Heart Problem, Breathing Problem)')\n",
    "print(cpd_alarm)\n",
    "print()\n",
    "print('Joint probability distribution, P(Person1 | Alarm)')\n",
    "print(cpd_person1)\n",
    "print()\n",
    "print('Joint probability distribution, P(Person2 | Alarm)')\n",
    "print(cpd_person2)\n",
    "print()"
   ]
  },
  {
   "cell_type": "code",
   "execution_count": 27,
   "id": "839286d9",
   "metadata": {},
   "outputs": [],
   "source": [
    "infer = pgmpy.inference.VariableElimination(model)"
   ]
  },
  {
   "cell_type": "code",
   "execution_count": 30,
   "id": "b8304ab0",
   "metadata": {},
   "outputs": [
    {
     "data": {
      "application/vnd.jupyter.widget-view+json": {
       "model_id": "ae4e779f21514195b39d2eaeefd7ea05",
       "version_major": 2,
       "version_minor": 0
      },
      "text/plain": [
       "0it [00:00, ?it/s]"
      ]
     },
     "metadata": {},
     "output_type": "display_data"
    },
    {
     "data": {
      "application/vnd.jupyter.widget-view+json": {
       "model_id": "e5b91b4ba8ef4e9797a65defc2e069d5",
       "version_major": 2,
       "version_minor": 0
      },
      "text/plain": [
       "0it [00:00, ?it/s]"
      ]
     },
     "metadata": {},
     "output_type": "display_data"
    },
    {
     "name": "stdout",
     "output_type": "stream",
     "text": [
      "+----------+--------------+\n",
      "| Alarm    |   phi(Alarm) |\n",
      "+==========+==============+\n",
      "| Alarm(0) |       0.9972 |\n",
      "+----------+--------------+\n",
      "| Alarm(1) |       0.0028 |\n",
      "+----------+--------------+\n"
     ]
    }
   ],
   "source": [
    "probability = infer.query(['Alarm'], evidence={'Heart Problem': 1, 'Breathing Problem': 1,'Person1':1,'Person2':1})\n",
    "print(probability)"
   ]
  },
  {
   "cell_type": "code",
   "execution_count": null,
   "id": "b5962bca",
   "metadata": {},
   "outputs": [],
   "source": [
    "-\n",
    "8"
   ]
  }
 ],
 "metadata": {
  "kernelspec": {
   "display_name": "Python 3 (ipykernel)",
   "language": "python",
   "name": "python3"
  },
  "language_info": {
   "codemirror_mode": {
    "name": "ipython",
    "version": 3
   },
   "file_extension": ".py",
   "mimetype": "text/x-python",
   "name": "python",
   "nbconvert_exporter": "python",
   "pygments_lexer": "ipython3",
   "version": "3.9.7"
  }
 },
 "nbformat": 4,
 "nbformat_minor": 5
}
