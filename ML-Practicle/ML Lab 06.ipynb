{
 "cells": [
  {
   "cell_type": "code",
   "execution_count": 1,
   "id": "aee44d9f",
   "metadata": {},
   "outputs": [
    {
     "name": "stdout",
     "output_type": "stream",
     "text": [
      "Requirement already satisfied: pgmpy in c:\\users\\charan lanka\\anaconda3\\lib\\site-packages (0.1.19)\n",
      "Requirement already satisfied: pandas in c:\\users\\charan lanka\\anaconda3\\lib\\site-packages (from pgmpy) (1.3.4)\n",
      "Requirement already satisfied: numpy in c:\\users\\charan lanka\\anaconda3\\lib\\site-packages (from pgmpy) (1.20.3)\n",
      "Requirement already satisfied: networkx in c:\\users\\charan lanka\\anaconda3\\lib\\site-packages (from pgmpy) (2.6.3)\n",
      "Requirement already satisfied: torch in c:\\users\\charan lanka\\anaconda3\\lib\\site-packages (from pgmpy) (1.12.1)\n",
      "Requirement already satisfied: scipy in c:\\users\\charan lanka\\anaconda3\\lib\\site-packages (from pgmpy) (1.7.1)\n",
      "Requirement already satisfied: joblib in c:\\users\\charan lanka\\anaconda3\\lib\\site-packages (from pgmpy) (1.1.0)\n",
      "Requirement already satisfied: statsmodels in c:\\users\\charan lanka\\anaconda3\\lib\\site-packages (from pgmpy) (0.12.2)\n",
      "Requirement already satisfied: scikit-learn in c:\\users\\charan lanka\\anaconda3\\lib\\site-packages (from pgmpy) (0.24.2)\n",
      "Requirement already satisfied: pyparsing in c:\\users\\charan lanka\\anaconda3\\lib\\site-packages (from pgmpy) (3.0.4)\n",
      "Requirement already satisfied: tqdm in c:\\users\\charan lanka\\anaconda3\\lib\\site-packages (from pgmpy) (4.62.3)\n",
      "Requirement already satisfied: pytz>=2017.3 in c:\\users\\charan lanka\\anaconda3\\lib\\site-packages (from pandas->pgmpy) (2021.3)\n",
      "Requirement already satisfied: python-dateutil>=2.7.3 in c:\\users\\charan lanka\\anaconda3\\lib\\site-packages (from pandas->pgmpy) (2.8.2)\n",
      "Requirement already satisfied: six>=1.5 in c:\\users\\charan lanka\\anaconda3\\lib\\site-packages (from python-dateutil>=2.7.3->pandas->pgmpy) (1.16.0)\n",
      "Requirement already satisfied: threadpoolctl>=2.0.0 in c:\\users\\charan lanka\\anaconda3\\lib\\site-packages (from scikit-learn->pgmpy) (2.2.0)\n",
      "Requirement already satisfied: patsy>=0.5 in c:\\users\\charan lanka\\anaconda3\\lib\\site-packages (from statsmodels->pgmpy) (0.5.2)\n",
      "Note: you may need to restart the kernel to use updated packages.Requirement already satisfied: typing-extensions in c:\\users\\charan lanka\\anaconda3\\lib\\site-packages (from torch->pgmpy) (3.10.0.2)\n",
      "Requirement already satisfied: colorama in c:\\users\\charan lanka\\anaconda3\\lib\\site-packages (from tqdm->pgmpy) (0.4.3)\n",
      "\n"
     ]
    }
   ],
   "source": [
    "pip install pgmpy"
   ]
  },
  {
   "cell_type": "code",
   "execution_count": 2,
   "id": "de4046df",
   "metadata": {},
   "outputs": [],
   "source": [
    "import pgmpy.models"
   ]
  },
  {
   "cell_type": "code",
   "execution_count": 3,
   "id": "a4e8cc01",
   "metadata": {},
   "outputs": [
    {
     "name": "stderr",
     "output_type": "stream",
     "text": [
      "C:\\Users\\Charan Lanka\\anaconda3\\lib\\site-packages\\pgmpy\\models\\BayesianModel.py:8: FutureWarning: BayesianModel has been renamed to BayesianNetwork. Please use BayesianNetwork class, BayesianModel will be removed in future.\n",
      "  warnings.warn(\n"
     ]
    }
   ],
   "source": [
    "model = pgmpy.models.BayesianModel([('Burglary', 'Alarm'), \n",
    "                                    ('Earthquake', 'Alarm'),\n",
    "                                    ('Alarm', 'JohnCalls'), \n",
    "                                    ('Alarm', 'MaryCalls')])"
   ]
  },
  {
   "cell_type": "code",
   "execution_count": 4,
   "id": "dd740b8d",
   "metadata": {},
   "outputs": [],
   "source": [
    "cpd_burglary = pgmpy.factors.discrete.TabularCPD('Burglary', 2, [[ 0.999],[0.001]])"
   ]
  },
  {
   "cell_type": "code",
   "execution_count": 5,
   "id": "1be41423",
   "metadata": {},
   "outputs": [],
   "source": [
    "cpd_earthquake = pgmpy.factors.discrete.TabularCPD('Earthquake', 2, [[0.998],[0.002]])"
   ]
  },
  {
   "cell_type": "code",
   "execution_count": 6,
   "id": "c9413fa8",
   "metadata": {},
   "outputs": [],
   "source": [
    "cpd_alarm = pgmpy.factors.discrete.TabularCPD('Alarm', 2, [[0.05, 0.06, 0.71, 0.999],[0.95, 0.94, 0.29, 0.001] ], \n",
    "                                              evidence=['Burglary', 'Earthquake'], \n",
    "                                              evidence_card=[2, 2])"
   ]
  },
  {
   "cell_type": "code",
   "execution_count": 7,
   "id": "eb606f7a",
   "metadata": {},
   "outputs": [],
   "source": [
    "cpd_john = pgmpy.factors.discrete.TabularCPD('JohnCalls', 2, [[0.05,0.90], \n",
    "                                                           [0.95,0.10]], \n",
    "                                              evidence=['Alarm'], \n",
    "                                              evidence_card=[2])"
   ]
  },
  {
   "cell_type": "code",
   "execution_count": 8,
   "id": "10006736",
   "metadata": {},
   "outputs": [],
   "source": [
    "cpd_mary = pgmpy.factors.discrete.TabularCPD('MaryCalls', 2, [[0.01,0.70], \n",
    "                                                           [0.99,0.30]], \n",
    "                                              evidence=['Alarm'], \n",
    "                                              evidence_card=[2])"
   ]
  },
  {
   "cell_type": "code",
   "execution_count": 9,
   "id": "75fcaa9f",
   "metadata": {},
   "outputs": [],
   "source": [
    "model.add_cpds(cpd_burglary, cpd_earthquake, cpd_alarm, cpd_john, cpd_mary)"
   ]
  },
  {
   "cell_type": "code",
   "execution_count": 10,
   "id": "34429d96",
   "metadata": {},
   "outputs": [
    {
     "data": {
      "text/plain": [
       "True"
      ]
     },
     "execution_count": 10,
     "metadata": {},
     "output_type": "execute_result"
    }
   ],
   "source": [
    "model.check_model()"
   ]
  },
  {
   "cell_type": "code",
   "execution_count": 11,
   "id": "3b3d3162",
   "metadata": {},
   "outputs": [
    {
     "name": "stdout",
     "output_type": "stream",
     "text": [
      "Probability distribution, P(Burglary)\n",
      "+-------------+-------+\n",
      "| Burglary(0) | 0.999 |\n",
      "+-------------+-------+\n",
      "| Burglary(1) | 0.001 |\n",
      "+-------------+-------+\n",
      "\n",
      "Probability distribution, P(Earthquake)\n",
      "+---------------+-------+\n",
      "| Earthquake(0) | 0.998 |\n",
      "+---------------+-------+\n",
      "| Earthquake(1) | 0.002 |\n",
      "+---------------+-------+\n",
      "\n",
      "Joint probability distribution, P(Alarm | Burglary, Earthquake)\n",
      "+------------+---------------+---------------+---------------+---------------+\n",
      "| Burglary   | Burglary(0)   | Burglary(0)   | Burglary(1)   | Burglary(1)   |\n",
      "+------------+---------------+---------------+---------------+---------------+\n",
      "| Earthquake | Earthquake(0) | Earthquake(1) | Earthquake(0) | Earthquake(1) |\n",
      "+------------+---------------+---------------+---------------+---------------+\n",
      "| Alarm(0)   | 0.05          | 0.06          | 0.71          | 0.999         |\n",
      "+------------+---------------+---------------+---------------+---------------+\n",
      "| Alarm(1)   | 0.95          | 0.94          | 0.29          | 0.001         |\n",
      "+------------+---------------+---------------+---------------+---------------+\n",
      "\n",
      "Joint probability distribution, P(JohnCalls | Alarm)\n",
      "+--------------+----------+----------+\n",
      "| Alarm        | Alarm(0) | Alarm(1) |\n",
      "+--------------+----------+----------+\n",
      "| JohnCalls(0) | 0.05     | 0.9      |\n",
      "+--------------+----------+----------+\n",
      "| JohnCalls(1) | 0.95     | 0.1      |\n",
      "+--------------+----------+----------+\n",
      "\n",
      "Joint probability distribution, P(MaryCalls | Alarm)\n",
      "+--------------+----------+----------+\n",
      "| Alarm        | Alarm(0) | Alarm(1) |\n",
      "+--------------+----------+----------+\n",
      "| MaryCalls(0) | 0.01     | 0.7      |\n",
      "+--------------+----------+----------+\n",
      "| MaryCalls(1) | 0.99     | 0.3      |\n",
      "+--------------+----------+----------+\n",
      "\n"
     ]
    }
   ],
   "source": [
    "print('Probability distribution, P(Burglary)')\n",
    "print(cpd_burglary)\n",
    "print()\n",
    "print('Probability distribution, P(Earthquake)')\n",
    "print(cpd_earthquake)\n",
    "print()\n",
    "print('Joint probability distribution, P(Alarm | Burglary, Earthquake)')\n",
    "print(cpd_alarm)\n",
    "print()\n",
    "print('Joint probability distribution, P(JohnCalls | Alarm)')\n",
    "print(cpd_john)\n",
    "print()\n",
    "print('Joint probability distribution, P(MaryCalls | Alarm)')\n",
    "print(cpd_mary)\n",
    "print()"
   ]
  },
  {
   "cell_type": "code",
   "execution_count": 13,
   "id": "346b3cc8",
   "metadata": {},
   "outputs": [],
   "source": [
    "import pgmpy.inference\n",
    "infer = pgmpy.inference.VariableElimination(model)"
   ]
  },
  {
   "cell_type": "code",
   "execution_count": 14,
   "id": "23757340",
   "metadata": {},
   "outputs": [
    {
     "data": {
      "application/vnd.jupyter.widget-view+json": {
       "model_id": "e0a7f75bbae34380af8ad9fbc76d4067",
       "version_major": 2,
       "version_minor": 0
      },
      "text/plain": [
       "0it [00:00, ?it/s]"
      ]
     },
     "metadata": {},
     "output_type": "display_data"
    },
    {
     "data": {
      "application/vnd.jupyter.widget-view+json": {
       "model_id": "fd6d80e50f7f42d782856717501689d6",
       "version_major": 2,
       "version_minor": 0
      },
      "text/plain": [
       "0it [00:00, ?it/s]"
      ]
     },
     "metadata": {},
     "output_type": "display_data"
    },
    {
     "name": "stdout",
     "output_type": "stream",
     "text": [
      "+----------+--------------+\n",
      "| Alarm    |   phi(Alarm) |\n",
      "+==========+==============+\n",
      "| Alarm(0) |       0.6226 |\n",
      "+----------+--------------+\n",
      "| Alarm(1) |       0.3774 |\n",
      "+----------+--------------+\n",
      "\n"
     ]
    }
   ],
   "source": [
    "# Calculate the probability of John Calls , Mary Calls even though there is no Burglary or EarthQuake\n",
    "probability = infer.query(['Alarm'], evidence={'Burglary': 0,'Earthquake':0,'JohnCalls':1,'MaryCalls':1})\n",
    "print(probability)\n",
    "print()"
   ]
  }
 ],
 "metadata": {
  "kernelspec": {
   "display_name": "Python 3 (ipykernel)",
   "language": "python",
   "name": "python3"
  },
  "language_info": {
   "codemirror_mode": {
    "name": "ipython",
    "version": 3
   },
   "file_extension": ".py",
   "mimetype": "text/x-python",
   "name": "python",
   "nbconvert_exporter": "python",
   "pygments_lexer": "ipython3",
   "version": "3.9.7"
  }
 },
 "nbformat": 4,
 "nbformat_minor": 5
}
